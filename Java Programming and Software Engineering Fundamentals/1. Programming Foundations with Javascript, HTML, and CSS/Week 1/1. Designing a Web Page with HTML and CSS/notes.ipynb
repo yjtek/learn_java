{
 "cells": [
  {
   "attachments": {},
   "cell_type": "markdown",
   "metadata": {},
   "source": [
    "## 1. Building a webpage with HTML"
   ]
  },
  {
   "attachments": {},
   "cell_type": "markdown",
   "metadata": {},
   "source": [
    "- Use `codepen.io`\n",
    "\n",
    "- Nuts and bolts of a webpage\n",
    "    - HTML\n",
    "        - not programming per se, makeup language\n",
    "        - specifies content of page, used by browsers\n",
    "        - Demarcated by tags e.g. \\<head\\> \\</head\\>, \\<body\\> \\</body\\>, \\<p\\> \\</p\\> etc\n",
    "        - specifies meaning or semantics; basically focuses on **what** you want to display\n",
    "        - HTML5 is the current standard        "
   ]
  },
  {
   "attachments": {},
   "cell_type": "markdown",
   "metadata": {},
   "source": [
    "- Elements in html\n",
    "    - Metadata elements\n",
    "        - Information about the page\n",
    "        - \\<html\\>\n",
    "            - Contains all other elements\n",
    "            - Specifies HTML standard\n",
    "        - \\<head\\>\n",
    "            - Information about the page: title, scripts, CSS\n",
    "        - \\<title\\>\n",
    "            - Specifies page title\n",
    "            - Must be nested between \\<head\\> \\</head\\>\n",
    "    - Sectioning elements\n",
    "        - Defines regions\n",
    "        - \\<body\\>\n",
    "            - Contains all items seen on page\n",
    "        - \\<h1\\>\n",
    "            - Header 1 (largest)\n",
    "            - goes from h1 to h6, decreasing by size\n",
    "        - \\<div\\>\n",
    "            - Used to define section for web page for CSS definition\n",
    "        - \\<p\\>\n",
    "            - paragraph"
   ]
  },
  {
   "attachments": {},
   "cell_type": "markdown",
   "metadata": {},
   "source": [
    "- Formatting text and nesting tags\n",
    "    - Note that these can be **nested**, i.e. a word can be both bold and emphasised \n",
    "    - \\<b\\>\n",
    "        - Tag for bold text\n",
    "    - \\<em\\>\n",
    "        - Emphasize (italics) text"
   ]
  },
  {
   "attachments": {},
   "cell_type": "markdown",
   "metadata": {},
   "source": [
    "- Add images and links\n",
    "    - \\<img src = \"http://some-link\"/ \\>\n",
    "        - Adding image\n",
    "        - In the tag there are some `options` specified (here, src)\n",
    "        - The `/` indicates that no additional end tag is needed\n",
    "\n",
    "    - \\<a href=\"google.com\"\\>\n",
    "        - Adding hyperlink"
   ]
  },
  {
   "attachments": {},
   "cell_type": "markdown",
   "metadata": {},
   "source": [
    "- Images and storage\n",
    "    - When creating image, you need to find a URL for the `src` option\n",
    "    - There are copyright concerns for both videos and images! Look for these\n",
    "        - Wikimedia commons\n",
    "        - Creative commons\n",
    "    - There are also storage concerns\n",
    "        - When you inline link to another site, (hotlink), you need to worry about traffic to other pages\n",
    "        - Some sites disable it, to avoid too much money burnt"
   ]
  },
  {
   "attachments": {},
   "cell_type": "markdown",
   "metadata": {},
   "source": [
    "- Lists\n",
    "    - \\<ul\\>\n",
    "        - Unordered list (bullets)\n",
    "        - \\<li\\> tag will have sequence of \\<li\\> tags\n",
    "        - e.g. \\<ul\\> \\<li\\>List element\\</li\\> \\<\\ul\\>\n",
    "    - \\<ol\\>\n",
    "        - Ordered list\n",
    "        - Same idea as ul\n",
    "\n",
    "- Tables\n",
    "    - Starts with the \\<table\\> tag\n",
    "    - Then comprised of a \\<tr\\> tag for each table row\n",
    "    - Each tr will contain a \\<th\\> tag to define the header element of a table, followed by a \\<td\\> tag to denote table cells\n",
    "\n",
    "- Note the idea of composition here\n",
    "    - You can put lists in tables, and tables in lists\n",
    "    - Lists can be nested and composed. You can have a `ul` inside an `ol` etc"
   ]
  },
  {
   "attachments": {},
   "cell_type": "markdown",
   "metadata": {},
   "source": []
  }
 ],
 "metadata": {
  "language_info": {
   "name": "python"
  },
  "orig_nbformat": 4
 },
 "nbformat": 4,
 "nbformat_minor": 2
}
