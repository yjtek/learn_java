{
 "cells": [
  {
   "attachments": {},
   "cell_type": "markdown",
   "metadata": {},
   "source": [
    "## CSS"
   ]
  },
  {
   "attachments": {},
   "cell_type": "markdown",
   "metadata": {},
   "source": [
    "- Webpages can be displayed different depending on things like type of screen, kind of device\n",
    "- Webpages can be experienced differently for different users, e.g. colour blind etc\n",
    "- Meddling with CSS can help with this\n",
    "- We already looked at html  \n",
    "    - html specifies document content and some formatting (headers, lists, tables, etc)\n",
    "- CSS (cascading style sheet) specifies look and formatting of web page\n",
    "    - e.g. how big is H1? What colour? Mobile or desktop? etc\n",
    "    - Makes adjusting the design of big webpages scalable (Reusability, Maintainability)"
   ]
  },
  {
   "attachments": {},
   "cell_type": "markdown",
   "metadata": {},
   "source": [
    "- CSS Basics\n",
    "    - Use `<style>` tag to write directly, or `<link>` tag to link to an external style sheet\n",
    "    - Either way, it is specified in the `<head>` of the html\n",
    "\n",
    "- Breakdown of CSS\n",
    "    - Selector (e.g. all h1 tags, p tags etc), followed by curly braces with the properties\n",
    "    ```html\n",
    "    h1 {\n",
    "        text-align: center;\n",
    "        color: blue;\n",
    "    }\n",
    "    ```\n",
    "\n",
    "- Above, we see how we can apply the same CSS to all of a particular tag. What if you only want to modify specific elements? There are 3 ways to do this\n",
    "    - Class: Named styles\n",
    "        - In HTML: `<li class \"someClass\"> some text in list </li>`\n",
    "        - In CSS: `.someClass {\n",
    "            color: green;\n",
    "        }`\n",
    "    - ID: Name one element\n",
    "        - In HTML: `<img src='something.jpg' id='somethingID' />`\n",
    "        - In CSS: `#somethingID {float: right};`\n",
    "    - Combinators: Specify relationships between tags\n",
    "        - Style all `<li>` inside a `<ul>`\n",
    "            - In CSS: `ul li {...}`\n",
    "\n",
    "- Specifying colours by name or value\n",
    "    - `h1 {color: blue}`\n",
    "    - `h1 {color: #123456}`\n",
    "    - `h1 {color: rgb(255 255 255 / .5)}` \n",
    "        - The the last value is alpha, or opacity\n",
    "    \n"
   ]
  }
 ],
 "metadata": {
  "language_info": {
   "name": "python"
  },
  "orig_nbformat": 4
 },
 "nbformat": 4,
 "nbformat_minor": 2
}
