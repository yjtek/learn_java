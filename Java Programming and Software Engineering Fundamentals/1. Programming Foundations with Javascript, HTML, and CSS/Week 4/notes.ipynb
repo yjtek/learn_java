{
 "cells": [
  {
   "attachments": {},
   "cell_type": "markdown",
   "metadata": {},
   "source": [
    "- Steganography: Hiding stuff in digital artifacts (e.g. images)\n",
    "- Use colour code (e.g. RGB) to hide information\n",
    "    - e.g. Imagine R G B goes from 1 to 1000\n",
    "        - R has value 1234\n",
    "        - G has value 2345\n",
    "        - I want to hide the first two digits of R in G\n",
    "        - I simply change G to 2312\n",
    "        - It is not going to be very noticeably different but some information is encoded\n",
    "- "
   ]
  }
 ],
 "metadata": {
  "language_info": {
   "name": "python"
  },
  "orig_nbformat": 4
 },
 "nbformat": 4,
 "nbformat_minor": 2
}
