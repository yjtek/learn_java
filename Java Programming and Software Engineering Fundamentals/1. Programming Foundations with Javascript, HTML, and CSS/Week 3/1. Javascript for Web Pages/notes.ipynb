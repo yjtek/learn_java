{
 "cells": [
  {
   "attachments": {},
   "cell_type": "markdown",
   "metadata": {},
   "source": [
    "- Interactivity using Javascript\n",
    "    - Event-driven programming using javascript for interactivity in webpages\n",
    "- HTTP + CSS + JS = Interactive web page\n",
    "    - Create page that lets you upload image and create composite"
   ]
  },
  {
   "attachments": {},
   "cell_type": "markdown",
   "metadata": {},
   "source": [
    "- Buttons with Divs\n",
    "    - Create a html button using `<input>` tag\n",
    "        - `<input type=\"button\" value=\"change\" onclick=\"alert('clicked button')\">` \n",
    "        - type attribute: button, slider etc\n",
    "\n",
    "    - Can add a JS function instead of writing everything in the `onclick` attribute\n",
    "        - function dochange() {alert('clicked button')}\n",
    "        - `<input type=\"button\" value=\"change\" onclick=dochange()>` "
   ]
  },
  {
   "attachments": {},
   "cell_type": "markdown",
   "metadata": {},
   "source": [
    "- Changing pages interactively\n",
    "    - You need to access HTML elements dynamically by code\n",
    "    - Then change CSS, add CSS etc\n",
    "    - Steps to do this  \n",
    "        - Make a css class with the desired property AFTER the event has occured\n",
    "        - Use `onclick` attribute for buttons to call JS function to swap classes\n",
    "        ```javascript\n",
    "        function swapClass(){\n",
    "            var d1 = document.getElement('div1')\n",
    "            var d2 = document.getElement('div2')\n",
    "            d1.className = 'div2'\n",
    "            d2.className = 'div1'\n",
    "        }\n",
    "\n",
    "        function changeText(){\n",
    "            var d1 = document.getElement('div1')\n",
    "            var d2 = document.getElement('div2')\n",
    "            d1.innerHTML = 'Hello'\n",
    "            d2.innerHTML = 'Goodbye'\n",
    "        }\n",
    "        ```"
   ]
  },
  {
   "attachments": {},
   "cell_type": "markdown",
   "metadata": {},
   "source": [
    "- `<canvas>` element in html5\n",
    "    - More flexible than `<div>`\n",
    "    - Container for graphics, you can add more things besides text "
   ]
  },
  {
   "attachments": {},
   "cell_type": "markdown",
   "metadata": {},
   "source": [
    "- Inputs and events\n",
    "    - Inputs: Button, text, color picker, range\n",
    "    - Events: mouse click, mouse enter/leave, field changes, input given\n",
    "    ```javascript\n",
    "    function docolor(){\n",
    "        var d1= document.getElementById('d1');\n",
    "        var colorinput = document.getElementById('clr');\n",
    "        var color = colorinput.value;\n",
    "        d1.style.backgroundColor = color\n",
    "    }\n",
    "\n",
    "    function dosquare(){\n",
    "        var d1= document.getElementById('d1');\n",
    "        var sizeinput = document.getElementById('sldr')\n",
    "        var size = sizeinput.value\n",
    "        var ctx = d1.getContext('d2')\n",
    "        ctx.fillStyle = 'yellow'\n",
    "        ctx.fillRect(10,10,size,sie);\n",
    "    }\n",
    "    ```\n",
    "\n",
    "    ```html\n",
    "    `<input type=\"range\" min=\"10\" max=\"100\" value=\"10\" id=\"sldr\" oninput=\"dosquare()\">`\n",
    "    ```"
   ]
  }
 ],
 "metadata": {
  "language_info": {
   "name": "python"
  },
  "orig_nbformat": 4
 },
 "nbformat": 4,
 "nbformat_minor": 2
}
