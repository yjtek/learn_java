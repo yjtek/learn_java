{
 "cells": [
  {
   "attachments": {},
   "cell_type": "markdown",
   "metadata": {},
   "source": [
    "- Interactivity using Javascript\n",
    "    - Event-driven programming using javascript for interactivity in webpages\n",
    "- HTTP + CSS + JS = Interactive web page\n",
    "    - Create page that lets you upload image and create composite"
   ]
  },
  {
   "attachments": {},
   "cell_type": "markdown",
   "metadata": {},
   "source": [
    "- Buttons with Divs\n",
    "    - Create a html button using `<input>` tag\n",
    "        - `<input type=\"button\" value=\"change\" onclick=\"alert('clicked button')\">` \n",
    "        - type attribute: button, slider etc\n",
    "\n",
    "    - Can add a JS function instead of writing everything in the `onclick` attribute\n",
    "        - function dochange() {alert('clicked button')}\n",
    "        - `<input type=\"button\" value=\"change\" onclick=dochange()>` "
   ]
  }
 ],
 "metadata": {
  "language_info": {
   "name": "python"
  },
  "orig_nbformat": 4
 },
 "nbformat": 4,
 "nbformat_minor": 2
}
