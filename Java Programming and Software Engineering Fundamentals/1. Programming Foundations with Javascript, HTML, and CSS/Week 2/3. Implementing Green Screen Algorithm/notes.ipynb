{
 "cells": [
  {
   "attachments": {},
   "cell_type": "markdown",
   "metadata": {},
   "source": [
    "- Debugging code: Scientific method\n",
    "    - Observe phenomenon\n",
    "    - Ask question\n",
    "    - Gather info and apply knowledge\n",
    "    - form hypothesis\n",
    "    - Test hypothesis\n",
    "    - Reject hypothesis, and return to step 3"
   ]
  }
 ],
 "metadata": {
  "language_info": {
   "name": "python"
  },
  "orig_nbformat": 4
 },
 "nbformat": 4,
 "nbformat_minor": 2
}
