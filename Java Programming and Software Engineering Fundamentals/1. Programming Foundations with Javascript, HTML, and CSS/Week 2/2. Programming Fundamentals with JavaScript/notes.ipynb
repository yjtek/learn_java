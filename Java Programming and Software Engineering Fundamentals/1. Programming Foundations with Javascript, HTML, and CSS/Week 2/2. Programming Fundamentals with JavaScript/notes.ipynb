{
 "cells": [
  {
   "attachments": {},
   "cell_type": "markdown",
   "metadata": {},
   "source": [
    "- Variables\n",
    "    - Abstracting out something you use repeatedly and storing in a specific path for easy reference\n",
    "        - var x = 3;\n",
    "        - var y = 5;\n",
    "    - You can combine variables into expressions\n",
    "        - var z = x+y;\n",
    "- Methods\n",
    "    - functions that are tagged to specific class instances that have some functionality\n",
    "    - Methods are invoked on **objects**, vs functions which can be invoked on anything\n",
    "        - i.e. `picture.make_black_and_white()` invokes a make_black_and_white() method on a picture class \n",
    "\n",
    "- Functions\n",
    "    - Same as methods, except not tagged to a class or object\n",
    "\n",
    "- Types\n",
    "    - Need to tell your computer how to treat a given variable (i.e. 1 or \"1\"?)\n",
    "    - Python/Javascript is dynamically typed (i.e. keeps track of types for you), \n",
    "    - Java is statically typed (you define types and track it yourself), but it will check if you are doing anything dodgy when compiling\n",
    "\n",
    "- Loops\n",
    "```javascript\n",
    "    for (var pixel of img.values()) {\n",
    "        var newG = 255 - pixel.getGreen();\n",
    "        pixel.setGreen(newG)\n",
    "    }\n",
    "```\n",
    "\n",
    "- Conditionals\n",
    "```javascript\n",
    "var img = new SimpleImage(\"small.png\")\n",
    "for (var pixel of img.values()){\n",
    "    if (pixel.getX() >= img.getWidth()/2){\n",
    "        pixel.setRed(pixel.getRed()/2);\n",
    "    } \n",
    "    else {\n",
    "        pixel.setBlue(pixel.getRed());\n",
    "    }\n",
    "}\n",
    "```"
   ]
  }
 ],
 "metadata": {
  "language_info": {
   "name": "python"
  },
  "orig_nbformat": 4
 },
 "nbformat": 4,
 "nbformat_minor": 2
}
