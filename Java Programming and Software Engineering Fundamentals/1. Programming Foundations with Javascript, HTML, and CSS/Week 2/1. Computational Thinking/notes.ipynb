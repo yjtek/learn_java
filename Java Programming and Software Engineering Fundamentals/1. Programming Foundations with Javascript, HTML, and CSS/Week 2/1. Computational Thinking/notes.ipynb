{
 "cells": [
  {
   "attachments": {},
   "cell_type": "markdown",
   "metadata": {},
   "source": [
    "- Everything is a number, and computers work only with numbers\n",
    "- Hardware deals with bits (0, 1), but everything is abstracted anyway, so don't worry about this\n",
    "\n",
    "- Abstraction: Separate an interface (what something does) from implementation (how something works)\n",
    "\n",
    "- Types: types tell the computer how to operate on numbers\n",
    "    - i.e. 1+1 vs \"1\"+\"1\"\n",
    "\n",
    "- e.g. develop algorithm to remove greenscreen background and replace it with something else\n",
    "    - Make background image of the same size as the image you are editing\n",
    "    - Going pixel by pixle, for all pixels matching green screen colour, remove and replace with background image\n",
    "    - This sort of step by step process is simply an algorithm\n",
    "\n",
    "- General 7 step approach to solving programming problems (problem statement to working code)\n",
    "    1. Worked example by hand\n",
    "    2. Write down process\n",
    "    3. Find patterns\n",
    "    4. Check by hand\n",
    "    5. Translate to code\n",
    "    6. Run tests\n",
    "    7. Debug failed tests"
   ]
  }
 ],
 "metadata": {
  "language_info": {
   "name": "python"
  },
  "orig_nbformat": 4
 },
 "nbformat": 4,
 "nbformat_minor": 2
}
