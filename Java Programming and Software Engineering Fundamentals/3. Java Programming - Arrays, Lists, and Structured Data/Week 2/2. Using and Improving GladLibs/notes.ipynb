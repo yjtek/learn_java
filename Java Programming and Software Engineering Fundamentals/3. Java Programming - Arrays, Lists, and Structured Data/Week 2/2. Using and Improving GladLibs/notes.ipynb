{
 "cells": [
  {
   "cell_type": "markdown",
   "metadata": {},
   "source": [
    "- Brittle code\n",
    "    - Adding a new label to gladlib (e.g. verb) requires you to modify Glablib.java\n",
    "        - You create a new instance variable\n",
    "        - It must be constructed/initialised\n",
    "        - It must be accessed for random replacement\n",
    "    - Brittle code is when code violates open/closed principle\n",
    "        - Open for extension, closed for modification\n",
    "        - Violated if difficult to build on (extend) existing code \n",
    "        - Violated if possible to accidentally change structure (modify) existing structures"
   ]
  },
  {
   "cell_type": "markdown",
   "metadata": {},
   "source": [
    "- Hashmaps\n",
    "    - We previously saw counting using 2 parallel ArrayLists \n",
    "    - This can simply be extended to understand a HashMap (python dictionary)\n",
    "    - Associate key with values\n",
    "    - Hashmap lookup is O(1), vs ArrayList lookup which is O(N)\n",
    "\n",
    "```java\n",
    "HashMap<String, Integer> map = new HashMap<String, Integer>();\n",
    "map.containsKey(w); \n",
    "map.put(w,1); //key, value\n",
    "map.put(w, map.get(w)+1)\n",
    "\n",
    "for(String s: map.keySet()){\n",
    "    System.out.println(map.get(s))\n",
    "}\n",
    "```"
   ]
  },
  {
   "cell_type": "markdown",
   "metadata": {},
   "source": [
    "```java\n",
    "public class WordFrequenciesMap {\n",
    "    public void countWords(){\n",
    "        FileResource fr = new FileResource();\n",
    "        int total = 0;\n",
    "        for (String w: fr.words()){\n",
    "            w = w.toLowerCase();\n",
    "            total++;\n",
    "        }\n",
    "        System.out.println(\"Total = \" + total);\n",
    "    }\n",
    "\n",
    "    public void countWords2(){\n",
    "        FileResource fr = new FileResource();\n",
    "        HashMap<String, Integer> map = new HashMap<String, Integer>();\n",
    "        int total=0;\n",
    "        for (String w: fr.words()){\n",
    "            w = w.toLowerCase();\n",
    "            if (map.keySet().contains(w)){\n",
    "                map.put(w, map.get(w)+1);\n",
    "            }\n",
    "            else {\n",
    "                map.put(w, 1);\n",
    "            }\n",
    "        }\n",
    "        for (String w: map.keySet()){\n",
    "            int occurrences = map.get(w);\n",
    "            if (occurrences > 500){\n",
    "                System.out.println(occurrences + \" || \" + w);\n",
    "            }\n",
    "        }\n",
    "    }\n",
    "}\n",
    "```"
   ]
  },
  {
   "cell_type": "markdown",
   "metadata": {},
   "source": [
    "- Hashmap for flexible design\n",
    "    - Notice that in exercise 1, when you were asked to modify GladLib.java, you had to follow a few rules. This made the modification inflexible\n",
    "        - e.g. must follow fixed convention for names `verbList`\n",
    "        - must modify specific parts of program\n",
    "        - All sources must be txt\n",
    "\n",
    "- Named instance variables is poor design, we'll use hashmap to fix this\n",
    "    - i.e. we don't really want to fix \"<noun>\" association with \"nounList\", etc.\n",
    "\n",
    "- What changes?\n",
    "    - Can replace the 7 instance variables (adjectiveList, nounList, ...) with a single hashmap\n",
    "    - Instead of writing long i f statement chains, just replace with the hashmap's `get` method\n",
    "    - Instead of assigning values to each named instance variable, just `put` the file into each of the hasmap's keys\n",
    "\n",
    " - Arraylist vs Hashmap\n",
    "    - ArrayList: add(), size(), get(), set(), indexOf()\n",
    "    - HashMap: put(), size(), get(), keySet(), containsKey()"
   ]
  },
  {
   "cell_type": "markdown",
   "metadata": {},
   "source": []
  }
 ],
 "metadata": {
  "language_info": {
   "name": "python"
  },
  "orig_nbformat": 4
 },
 "nbformat": 4,
 "nbformat_minor": 2
}
