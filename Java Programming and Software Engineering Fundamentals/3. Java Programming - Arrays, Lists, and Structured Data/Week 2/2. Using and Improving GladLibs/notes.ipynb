{
 "cells": [
  {
   "cell_type": "markdown",
   "metadata": {},
   "source": [
    "- Brittle code\n",
    "    - Adding a new label to gladlib (e.g. verb) requires you to modify Glablib.java\n",
    "        - You create a new instance variable\n",
    "        - It must be constructed/initialised\n",
    "        - It must be accessed for random replacement\n",
    "    - Brittle code is when code violates open/closed principle\n",
    "        - Open for extension, closed for modification\n",
    "        - Violated if difficult to build on (extend) existing code \n",
    "        - Violated if possible to accidentally change structure (modify) existing structures"
   ]
  },
  {
   "cell_type": "markdown",
   "metadata": {},
   "source": [
    "- "
   ]
  }
 ],
 "metadata": {
  "language_info": {
   "name": "python"
  },
  "orig_nbformat": 4
 },
 "nbformat": 4,
 "nbformat_minor": 2
}
