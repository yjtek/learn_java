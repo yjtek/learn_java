{
 "cells": [
  {
   "cell_type": "markdown",
   "metadata": {},
   "source": [
    "- In Vigenere Cipher, key is a word\n",
    "    - Key is repeatedly written to match message length\n",
    "    - Each letter in the key is a number for how much to shift\n",
    "    - Assume Message: Hello! || Key: ABCDE\n",
    "        - We shift H by 0 (because A is 0th index), e by 1 (because B is 1st index), etc"
   ]
  },
  {
   "cell_type": "markdown",
   "metadata": {},
   "source": [
    "- Let's start with case when you know both the language and key length of encrypted message\n",
    "    - Write a method to slice the message into blocks of `key length`\n",
    "    - Then do whatever you want to do to breakVigenere\n"
   ]
  }
 ],
 "metadata": {
  "language_info": {
   "name": "python"
  },
  "orig_nbformat": 4
 },
 "nbformat": 4,
 "nbformat_minor": 2
}
