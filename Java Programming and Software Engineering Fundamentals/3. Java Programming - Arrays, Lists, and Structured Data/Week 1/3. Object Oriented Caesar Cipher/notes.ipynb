{
 "cells": [
  {
   "cell_type": "markdown",
   "metadata": {},
   "source": [
    "- Java: Object oriented language \n",
    "    - Object = code + data\n",
    "    - Code has methods\n",
    "    - Data has fields\n",
    "\n",
    "- Rewriting with encapsulation: Compare the 2 implementations below:\n",
    "\n",
    "```java\n",
    "public class CaeserCipher {\n",
    "    public String encrypt(String input, int key){\n",
    "        String alphabet = \"ABCDEFGHIJKLMNOPQRSTUVWXYZ\";\n",
    "        String shiftedAlphabet = alphabet.substring(key) + alphabet.substring(0, key);\n",
    "        StringBuilder sb = new StringBuilder(input);\n",
    "        for (int i=0; i < sb.length(); i++){\n",
    "            char c = sb.charAt(i);\n",
    "            int idx = alphabet.indexOf(c);\n",
    "            ...\n",
    "        }\n",
    "    }\n",
    "}\n",
    "\n",
    "public class CaeserCipher {\n",
    "    private String alphabet;\n",
    "    private String shiftedAlphabet;\n",
    "    \n",
    "    public CaeserCipher(int key){ //CaeserCipher **encapsulates** the key, only message is passed in\n",
    "        alphabet = \"ABCDEFGHIJKLMNOPQRSTUVWXYZ\";\n",
    "        shiftedAlphabet = alphabet.substring(key) + alphabet.substring(0, key);\n",
    "\n",
    "    }\n",
    "\n",
    "    public String encrypt(String input){\n",
    "        StringBuilder sb = new StringBuilder(input);\n",
    "        for (int i=0; i < sb.length(); i++){\n",
    "            char c = sb.charAt(i);\n",
    "            int idx = alphabet.indexOf(c); //Using the alphabet defined OUTSIDE the method\n",
    "            if (idx != -1){\n",
    "                c = shiftedAlphabet.charAt(idx);\n",
    "                sb.setCharAt(i, c);\n",
    "            }\n",
    "        }\n",
    "        return sb.toString();\n",
    "    }\n",
    "}\n",
    "```\n",
    "\n",
    "- In the second implementation above\n",
    "    - We have separated the implementation of the `field` (alphabet, shiftedAlphabet) to be inside the class instead of inside the method\n",
    "    - We have a `CaeserCipher` \"method\" whose name matches the public class, and it does not have a return type. This is a `constructor`, and it holds the logic for what the `CaeserCipher` object does when it is initialised\n",
    "    - `encrypt` uses the `Alphabet` field defined for the CaeserCipher object\n",
    "\n"
   ]
  },
  {
   "cell_type": "markdown",
   "metadata": {},
   "source": [
    "- Fields\n",
    "    - Fields are also known as instance variables\n",
    "    - In the example above, every `CaeserCipher` object has its own `Alphabet` field, and so can have a different field value\n",
    "\n",
    "- Class concepts\n",
    "    - Class: Noun --> A thing\n",
    "    - Method: Verb --> An action\n",
    "    - Field: Noun/Adjective --> Thing a class has/is"
   ]
  },
  {
   "cell_type": "markdown",
   "metadata": {},
   "source": [
    "- Visibility\n",
    "    - public: Any code can access\n",
    "        - Handles the interface (what things to do)\n",
    "    - private: Only code inside the class can access\n",
    "        - Handles the implementation (how things are done)\n",
    "\n",
    "    - Fields are typically private\n",
    "    - Methods depends; if it describes an action of the object it is usually public, else it is private\n",
    "    - Classes are public typically\n",
    "    - Constructors are public typically"
   ]
  },
  {
   "cell_type": "markdown",
   "metadata": {},
   "source": [
    "- Constructors\n",
    "    - Not called directly, instead, they are called when \"new\" is called\n",
    "    - If constructors are not written, compiler provides a default\n",
    "        - ```java \n",
    "            public CaeserCipher(){}\n",
    "            ```\n",
    "    - \n",
    "\n",
    "```java\n",
    "public class CaeserCipher {    \n",
    "    public CaeserCipher(int key){ //CaeserCipher **encapsulates** the key, only message is passed in\n",
    "        alphabet = \"ABCDEFGHIJKLMNOPQRSTUVWXYZ\";\n",
    "        shiftedAlphabet = alphabet.substring(key) + alphabet.substring(0, key);\n",
    "    }\n",
    "    ...\n",
    "```"
   ]
  },
  {
   "cell_type": "markdown",
   "metadata": {},
   "source": []
  }
 ],
 "metadata": {
  "language_info": {
   "name": "python"
  },
  "orig_nbformat": 4
 },
 "nbformat": 4,
 "nbformat_minor": 2
}
