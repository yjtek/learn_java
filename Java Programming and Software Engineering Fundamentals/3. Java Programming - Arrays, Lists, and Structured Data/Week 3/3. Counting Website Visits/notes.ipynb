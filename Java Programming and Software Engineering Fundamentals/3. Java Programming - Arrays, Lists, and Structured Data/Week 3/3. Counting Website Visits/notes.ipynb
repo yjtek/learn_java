{
 "cells": [
  {
   "cell_type": "markdown",
   "metadata": {},
   "source": [
    "```java\n",
    "public HashMap<String, Integer> countVisitsPerIP() {\n",
    "    HashMap<String, Integer> counts = new HashMap<String, Integer>();\n",
    "    for (LogEntry le: records){\n",
    "        String ip = le.getIPAddress();\n",
    "        if (counts.containsKey(ip)) {\n",
    "            counts.put(ip, 1);\n",
    "        }\n",
    "        else {\n",
    "            counts.put(ip, counts.get(ip)+1);\n",
    "        }\n",
    "    }\n",
    "}\n",
    "\n",
    "public class CountTester {\n",
    "    public void testCounts() {\n",
    "        LogAnalyzer la = new LogAnalyzer();\n",
    "        la.readFile(\"short-test_log\");\n",
    "        HashMap<String, Integer> counts = la.countVisitsPerIP();\n",
    "        System.out.println(counts);\n",
    "    }\n",
    "}\n",
    "```"
   ]
  }
 ],
 "metadata": {
  "language_info": {
   "name": "python"
  },
  "orig_nbformat": 4
 },
 "nbformat": 4,
 "nbformat_minor": 2
}
