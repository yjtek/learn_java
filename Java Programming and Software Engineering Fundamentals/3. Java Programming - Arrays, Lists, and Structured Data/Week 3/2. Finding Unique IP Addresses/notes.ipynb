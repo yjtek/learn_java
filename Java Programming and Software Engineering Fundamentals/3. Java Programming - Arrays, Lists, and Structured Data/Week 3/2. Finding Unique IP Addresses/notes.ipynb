{
 "cells": [
  {
   "cell_type": "markdown",
   "metadata": {},
   "source": [
    "- Now that we know how to read log files, we want to aggregate to find useful information\n",
    "    - e.g. number of unique visitors"
   ]
  },
  {
   "cell_type": "markdown",
   "metadata": {},
   "source": [
    "```java\n",
    "public int countUniqueIPs(){\n",
    "    ArrayList<String> uniqueIPs = new ArrayList<String>();\n",
    "    for (LogEntry le: records){\n",
    "        String ipAddr = le.getIpAddress();\n",
    "        if (!uniqueIPs.contains(ipAddr)){\n",
    "            uniqueIPs.add(ipAddr);\n",
    "        }\n",
    "    }\n",
    "    return uniqueIPs.size();\n",
    "}\n",
    "```"
   ]
  },
  {
   "cell_type": "markdown",
   "metadata": {},
   "source": [
    "- What if you tried to do `uniqueIPs.contains(le)`? It will not work!\n",
    "    - `==` implies same object, and is called implicitly by `.contains()`\n",
    "    - `.equals()` checks for equal value"
   ]
  }
 ],
 "metadata": {
  "language_info": {
   "name": "python"
  },
  "orig_nbformat": 4
 },
 "nbformat": 4,
 "nbformat_minor": 2
}
