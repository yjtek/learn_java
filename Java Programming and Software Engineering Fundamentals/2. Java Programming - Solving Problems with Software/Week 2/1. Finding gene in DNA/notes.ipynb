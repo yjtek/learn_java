{
 "cells": [
  {
   "cell_type": "markdown",
   "metadata": {},
   "source": [
    "- Using java string type in genome research\n",
    "    - Genome is encoded as ATCG string\n",
    "    - Gene is delimited by codons, and regulatory elements\n",
    "        - Nucleotide: ATCG\n",
    "        - 3 nucleotides = 1 Codon = 1 amino acid\n",
    "        - ATG: Start codon\n",
    "        - ATT: Stop codon\n",
    "        - Gene: Everything between ATG and ATT\n",
    "\n",
    "```java\n",
    "String s = \"test substring\";\n",
    "String x = s.substring(4,7); //included, excluded\n",
    "s.length();\n",
    "s.indexOf('test');\n",
    "s.startsWith(\"test\");\n",
    "s.endsWith(\"WTF\");\n",
    "```\n",
    "\n",
    "```java\n",
    "public class FindGeneSimpleAndTest {\n",
    "    public String findGeneSimple(String dna){\n",
    "        String result = \"\";\n",
    "        int startIndex = dna.indexOf(\"ATG\");\n",
    "        int stopIndex = dna.indexOf(\"TAA\", startIndex+3);\n",
    "        result = dna.substring(startIndex, stopIndex+3);\n",
    "        return result;\n",
    "    }\n",
    "}\n",
    "```"
   ]
  },
  {
   "cell_type": "markdown",
   "metadata": {},
   "source": [
    "- Let's add a complication\n",
    "    - Not all substrings that start with ATG and end with TAA are valid genes\n",
    "    - Valid genes must be made up of codons, which must be in multiples of 3\n",
    "    - How to check this? Use modulo! If string length between start and end codon is not a multiple of 3, reject as a valid gene\n",
    "\n",
    "- Note that in Java, integer arithmetic can ONLY return integers \n",
    "    - i.e. 5/2 = 2, NOT 2.5!!\n",
    "\n",
    "- The usual order of operations apply"
   ]
  }
 ],
 "metadata": {
  "language_info": {
   "name": "python"
  },
  "orig_nbformat": 4
 },
 "nbformat": 4,
 "nbformat_minor": 2
}
