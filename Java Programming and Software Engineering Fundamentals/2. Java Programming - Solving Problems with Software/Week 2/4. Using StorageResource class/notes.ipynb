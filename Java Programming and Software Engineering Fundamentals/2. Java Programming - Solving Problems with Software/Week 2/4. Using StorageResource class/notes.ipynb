{
 "cells": [
  {
   "cell_type": "markdown",
   "metadata": {},
   "source": [
    "- Notice that so far, many of the tasks we do have been repetitive\n",
    "    - Get gene from somewhere\n",
    "    - Process genes\n",
    "\n",
    "- So since it is 2 tasks, better to separate them by using `separation of concerns`\n",
    "\n",
    "- the edu.duke package provides step 1 by using StorageResource"
   ]
  },
  {
   "cell_type": "markdown",
   "metadata": {},
   "source": [
    "```java\n",
    "    StorageResource sr = new StorageResource();\n",
    "    sr.add(\"Hello\");\n",
    "    sr.add(\"World\");\n",
    "    for (String s: sr.data()) {\n",
    "        System.out.println(s);\n",
    "    }\n",
    "```"
   ]
  },
  {
   "cell_type": "markdown",
   "metadata": {},
   "source": [
    "- The StorageResource used by modifying the earlier code;\n",
    "\n",
    "```java\n",
    "public StorageResource getAllGenes(String dna){\n",
    "    StorageResource geneList = new StorageResource();\n",
    "    \n",
    "    int startIndex = 0;\n",
    "    while (true) {\n",
    "        String currGene = findGene2(dna, startIndex);\n",
    "        if (currGene.isEmpty()) {\n",
    "            break;\n",
    "        }\n",
    "        geneList.add(currGene);\n",
    "        System.out.println(currGene);\n",
    "        startIndex = dna.indexOf(currGene, startIndex) + currGene.length();\n",
    "    }\n",
    "    return geneList;\n",
    "}\n",
    "\n",
    "public void testOn(String dna){\n",
    "    System.out.println(\"Testing getAllGenes on \" + dna);\n",
    "    StorageResource genes = getAllGenes(dna);\n",
    "    for (String g: genes.data()){\n",
    "        System.out.println(g);\n",
    "    }\n",
    "}\n",
    "```"
   ]
  }
 ],
 "metadata": {
  "language_info": {
   "name": "python"
  },
  "orig_nbformat": 4
 },
 "nbformat": 4,
 "nbformat_minor": 2
}
