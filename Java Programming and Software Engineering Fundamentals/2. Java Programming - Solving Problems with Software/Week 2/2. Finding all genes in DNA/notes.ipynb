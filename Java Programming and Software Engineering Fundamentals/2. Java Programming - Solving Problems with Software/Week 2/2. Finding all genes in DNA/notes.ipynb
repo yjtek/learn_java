{
 "cells": [
  {
   "cell_type": "markdown",
   "metadata": {},
   "source": [
    "- `while` loops\n",
    "    - Consider the string `ATG ATCGCTAATGCT TAA GCTATG`\n",
    "    \n",
    "    - So far, the gene identifier will look out for start codon ATG and end codon TAA to identify a possible gene\n",
    "    - It will return the gene if the string contained between ATG and TAA is a multiple of 3, else it is not a gene\n",
    "    - Notice that there is another `TAA` in the gene; this is due to the concatenation of `GCT` and `AAT`, but is not actually an end codon. The one further down the line is the real end codon\n",
    "    - To recognise this, we need the code to loop over the entire string to find all `TAA` if any preceding TAA fails to return\n",
    "    ```java\n",
    "    while (x < y){\n",
    "        System.out.println(x);\n",
    "        x = x+3;\n",
    "    }\n",
    "    ```"
   ]
  },
  {
   "cell_type": "markdown",
   "metadata": {},
   "source": [
    "- What if you have MULTIPLE possible stop codons?\n",
    "    - TAA, TGA, TAG all possible\n",
    "    - Abstract out the task of finding the stop codons `findStopCodon(\"TAG\")` etc, then take the minimum of the stop codon indices found"
   ]
  },
  {
   "cell_type": "markdown",
   "metadata": {},
   "source": [
    "- Logical operators\n",
    "    - In java, as in python, when you chain logical operations together with ||, you only evaluate until something returns True. So latter statements may not be evaluated"
   ]
  }
 ],
 "metadata": {
  "language_info": {
   "name": "python"
  },
  "orig_nbformat": 4
 },
 "nbformat": 4,
 "nbformat_minor": 2
}
