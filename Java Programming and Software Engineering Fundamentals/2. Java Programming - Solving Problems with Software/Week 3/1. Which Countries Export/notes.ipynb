{
 "cells": [
  {
   "cell_type": "markdown",
   "metadata": {},
   "source": [
    "- CSV in java\n",
    "    \n",
    "```java\n",
    "import org.apache.commons.csv.*;\n",
    "\n",
    "public class FirstCSVExample{\n",
    "    public void readFood(){\n",
    "        FileResource fr = new FileResource();\n",
    "        CSVParer parser = fr.getCSVParser();\n",
    "        for (CSVRecord record: parser){\n",
    "            System.out.println(record.get(\"Name\")+ \" \");\n",
    "            System.out.println(record.get(\"Favorite Color\")+ \" \");\n",
    "            System.out.println(record.get(\"Favorite Food\"));\n",
    "        }\n",
    "    }\n",
    "}\n",
    "```\n",
    "\n",
    "```java\n",
    "import org.apache.commons.csv.*;\n",
    "\n",
    "public class WhichCountriesExport{\n",
    "    public void listExporters(CSVParser parser, String exportOfInterest){\n",
    "        for (CSVRecord record: parser){\n",
    "            String export = record.get(\"Exports\");\n",
    "            if (export.contains(exportOfInterest)) {\n",
    "                String country = record.get(\"Country\");\n",
    "                System.out.println(country);\n",
    "            }\n",
    "        }\n",
    "    }\n",
    "\n",
    "    public void whoExportsCoffee(){\n",
    "        FileResource fr = new FileResource();\n",
    "        CSVParser parser = fr.getCSVParser();\n",
    "        listExporters(parser, \"coffee\");\n",
    "    }\n",
    "}\n",
    "```"
   ]
  }
 ],
 "metadata": {
  "language_info": {
   "name": "python"
  },
  "orig_nbformat": 4
 },
 "nbformat": 4,
 "nbformat_minor": 2
}
