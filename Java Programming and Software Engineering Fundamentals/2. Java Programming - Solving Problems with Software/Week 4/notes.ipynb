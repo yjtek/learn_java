{
 "cells": [
  {
   "cell_type": "markdown",
   "metadata": {},
   "source": [
    "```java\n",
    "public class BabyBirths {\n",
    "    public void printNames(){\n",
    "        FileResource fr = new FileResource();\n",
    "        for (CSVRecord r: fr.getCSVParser(false)){\n",
    "            int numBorn = Integer.parseInt(rec.get(2));\n",
    "            if (numBorn <= 100) {\n",
    "                System.out.println(\n",
    "                    \"Name \" + r.get(0) +\n",
    "                    \"Gender \" + r.get(1) +\n",
    "                    \"Num Born \" + r.get(2)\n",
    "                );\n",
    "            }\n",
    "        }\n",
    "    }\n",
    "\n",
    "    public void totalBirths(FileResource fr){\n",
    "        int totalBirths = 0;\n",
    "        int totalBoys = 0;\n",
    "        int totalGirls = 0;\n",
    "        for (CSVRecord r: fr.getCSVParser(false)){\n",
    "            int numBorn = Integer.parseInt(rec.get(2));\n",
    "            totalBirths += numBorn;\n",
    "            if (rec.get(1).equals(\"M\")){\n",
    "                totalBoys += 1;\n",
    "            } else {\n",
    "                totalGirls += 1;\n",
    "            }\n",
    "        }\n",
    "        System.out.println(\"total births = \"+ totalBirths);\n",
    "        System.out.println(\"total boys = \"+ totalBoys);\n",
    "        System.out.println(\"total girls = \"+ totalGirls);\n",
    "    }\n",
    "\n",
    "    public void testTotalBirths(){\n",
    "        FileResource fr = new FileResource(\"data/yob2014.csv\")\n",
    "        totalBirths(fr);\n",
    "    }\n",
    "}\n",
    "```"
   ]
  }
 ],
 "metadata": {
  "language_info": {
   "name": "python"
  },
  "orig_nbformat": 4
 },
 "nbformat": 4,
 "nbformat_minor": 2
}
