{
 "cells": [
  {
   "cell_type": "markdown",
   "metadata": {},
   "source": [
    "## 1. Introduction"
   ]
  },
  {
   "attachments": {},
   "cell_type": "markdown",
   "metadata": {},
   "source": [
    "- Java\n",
    "    - Object oriented language\n",
    "    - Organised in classes\n",
    "    - .java extension\n",
    "    - Contain methods\n",
    "\n",
    "- .java code must be translated to byte code to be machine readable.   \n",
    "    - byte code has .class extension"
   ]
  },
  {
   "attachments": {},
   "cell_type": "markdown",
   "metadata": {},
   "source": [
    "## 2. Syntax Details"
   ]
  },
  {
   "cell_type": "markdown",
   "metadata": {},
   "source": [
    "```java\n",
    "int myFunction(int x, int y){\n",
    "    int z = 2 * x - y\n",
    "}\n",
    "\n",
    "int myConditional(int x, int y){\n",
    "    if (x < y){\n",
    "        System.out.println(\"x < y\")\n",
    "        return y+x\n",
    "    }\n",
    "}\n",
    "\n",
    "public class Point{\n",
    "    private int x;\n",
    "    private int y;\n",
    "\n",
    "    // Constructor. No return type\n",
    "    public Point(int startx, int starty){\n",
    "        x = startx\n",
    "        y = starty\n",
    "    }\n",
    "\n",
    "    public int getX(){return x;}\n",
    "    public int getY(){return y;}\n",
    "    public double distance(Point otherPt){\n",
    "        int dx = x - otherPt.getX();\n",
    "        int dy = y - otherPt.getY();\n",
    "        return Math.sqrt(dx*dx + dy*dy)\n",
    "    }\n",
    "\n",
    "    public static void main(String[], args){\n",
    "        Point p1 = new Point(3,4);\n",
    "        Point p2 = new Point(6,8);\n",
    "        System.out.println(p1.distance(p2));\n",
    "    }\n",
    "}\n",
    "\n",
    "public class HelloWorld(){\n",
    "    public void runHello(){\n",
    "        FileResource f;\n",
    "        f = new FileResource(\"file.txt\");\n",
    "        for (String line : f.lines()){\n",
    "            System.out.println(line);\n",
    "        }\n",
    "    }\n",
    "    public static void main(String[] args){\n",
    "        HelloWorld hw = new HelloWorld();\n",
    "        hw.runHello();\n",
    "    }\n",
    "}\n",
    "```"
   ]
  },
  {
   "cell_type": "markdown",
   "metadata": {},
   "source": [
    "## 3. 7 steps of solving problems"
   ]
  },
  {
   "cell_type": "markdown",
   "metadata": {},
   "source": []
  }
 ],
 "metadata": {
  "language_info": {
   "name": "python"
  },
  "orig_nbformat": 4
 },
 "nbformat": 4,
 "nbformat_minor": 2
}
