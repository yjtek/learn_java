{
 "cells": [
  {
   "attachments": {},
   "cell_type": "markdown",
   "metadata": {},
   "source": [
    "- Java\n",
    "    - Object oriented language\n",
    "    - Organised in classes\n",
    "    - .java extension\n",
    "    - Contain methods\n",
    "\n",
    "- .java code must be translated to byte code to be machine readable.   \n",
    "    - byte code has .class extension"
   ]
  },
  {
   "attachments": {},
   "cell_type": "markdown",
   "metadata": {},
   "source": []
  }
 ],
 "metadata": {
  "language_info": {
   "name": "python"
  },
  "orig_nbformat": 4
 },
 "nbformat": 4,
 "nbformat_minor": 2
}
