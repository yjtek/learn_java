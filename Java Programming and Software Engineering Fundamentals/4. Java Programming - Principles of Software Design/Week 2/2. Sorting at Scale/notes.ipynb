{
 "cells": [
  {
   "cell_type": "markdown",
   "metadata": {},
   "source": [
    "- classes that implement `Comparable` method have some way to order instances that make sense\n",
    "    - `Comparable` promises a `compareTo` method\n",
    "    - `<T>` is a type parameter. So the interface below says that, in the case where T=QuakeEntry, you can only compare a QuakeEntry to another QuakeEntry (because of the T in the compareTo method);\n",
    "\n",
    "```java\n",
    "public interface Comparable <T> {\n",
    "    public int compareTo(T o);\n",
    "}\n",
    "```\n",
    "\n",
    "- But Comparable can be used for many types!\n",
    "    - String implements Comparable<String>\n",
    "    - e.g. \n",
    "        - \"apple\".compareTo(\"bear\") = -1\n",
    "        - \"bear\".compareTo(\"bear\") = 0\n",
    "        - \"dino\".compareTo(\"bear\") = 1\n",
    "    - compareTo should only be used to determine positive, 0, or negative. Don't use the absolute value unless you know what you are doing!"
   ]
  },
  {
   "cell_type": "markdown",
   "metadata": {},
   "source": [
    "- We have seen how we might implement comparisons between our classes by implementing `Comparable`\n",
    "    - But what if we want multiple ways to compare the same object? Use `Comparator` instead!!\n",
    "    - Instead of fixing how an object's comparison is done within the object, we can define an external object (a `Comparator`) which takes on different logic depicting how the comparison should be done"
   ]
  },
  {
   "cell_type": "markdown",
   "metadata": {},
   "source": [
    "```java\n",
    "public class MagnitudeComparator implements Comparator<QuakeEntry> {\n",
    "    public int compare(QuakeEntry qe1, QuakeEntry qe2) {\n",
    "        return Double.compare(qe1.getMagnitude(), qe2.getMagnitude());\n",
    "    }\n",
    "}\n",
    "```"
   ]
  },
  {
   "cell_type": "markdown",
   "metadata": {},
   "source": [
    "- How can we use a comparator to sort?\n",
    "    - `Collections.sort(list, new MagnitudeComparator())`\n",
    "    - This method calls the `.compare()` method depending on what comparator is passed into the second argument\n",
    "    - Use ordering defined by a Comparator"
   ]
  },
  {
   "cell_type": "markdown",
   "metadata": {},
   "source": []
  }
 ],
 "metadata": {
  "language_info": {
   "name": "python"
  },
  "orig_nbformat": 4
 },
 "nbformat": 4,
 "nbformat_minor": 2
}
