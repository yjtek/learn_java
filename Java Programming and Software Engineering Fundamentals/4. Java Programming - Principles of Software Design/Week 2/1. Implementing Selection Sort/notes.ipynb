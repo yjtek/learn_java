{
 "cells": [
  {
   "cell_type": "markdown",
   "metadata": {},
   "source": [
    "```java\n",
    "public ArrayList<QuakeEntry> sortByMagnitude(ArrayList<QuakeEntry> in) {\n",
    "    ArrayList<QuakeEntry> out = new ArrayList<QuakeEntry>();\n",
    "    while(!in.isEmpty()){\n",
    "        QuakeEntry minElement = getSmallestMagnitude(in);\n",
    "        in.remove(minElement);\n",
    "        out.add(minElement);\n",
    "    }\n",
    "    return out;\n",
    "}\n",
    "\n",
    "public int getSmallestMagnitude(ArrayList<QuakeEntry> quakes, int from) {\n",
    "    int minIdx = from;\n",
    "    for (int i=from+1; i < quakes.size(); i++) {\n",
    "        if (quakes.get(i).getMagnitude() < quakes.get(minIdx).getMagnitude()) {\n",
    "            minIdx = i;\n",
    "        }\n",
    "    }\n",
    "    return minIdx;\n",
    "}\n",
    "\n",
    "// Inplace sort\n",
    "public void sortByMagnitude(ArrayList<QuakeEntry> in) {\n",
    "    for (int i=0; i < in.size(); i++){\n",
    "        int minIdx = getSmallestMagnitude(in, i);\n",
    "        QuakeEntry qi = in.get(i);\n",
    "        QuakeEntry qmin = in.get(minIdx);\n",
    "        in.set(i,qmin);\n",
    "        in.set(minIdx,qi);\n",
    "    }\n",
    "}\n",
    "\n",
    "```"
   ]
  }
 ],
 "metadata": {
  "language_info": {
   "name": "python"
  },
  "orig_nbformat": 4
 },
 "nbformat": 4,
 "nbformat_minor": 2
}
