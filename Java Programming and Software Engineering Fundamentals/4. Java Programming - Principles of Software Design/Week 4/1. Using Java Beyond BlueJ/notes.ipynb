{
 "cells": [
  {
   "cell_type": "markdown",
   "metadata": {},
   "source": [
    "- In java, main program is in `public static void main(String[] args){...}`\n",
    "    - Static means can be called without instantiating the class\n",
    "\n",
    "- Call `System.exit` to crash program\n",
    "\n",
    "- In java, there are also static **fields** (attributes)\n",
    "    - Attributes are tied to instances by default, not static (tied to class)\n",
    "    - Define as `static int someValue`\n",
    "    - This `someValue` will be shared by ALL INSTANCES of the class"
   ]
  }
 ],
 "metadata": {
  "language_info": {
   "name": "python"
  },
  "orig_nbformat": 4
 },
 "nbformat": 4,
 "nbformat_minor": 2
}
