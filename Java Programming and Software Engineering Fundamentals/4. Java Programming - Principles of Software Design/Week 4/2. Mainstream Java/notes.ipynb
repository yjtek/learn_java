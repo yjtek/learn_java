{
 "cells": [
  {
   "cell_type": "markdown",
   "metadata": {},
   "source": [
    "- Java exceptions\n",
    "    - Exception handling key words: `try`, `catch`, `finally`\n",
    "    - Unhandled exceptions: print stack trace --> tells you about your problem\n",
    "\n",
    "- How to handle exceptions?\n",
    "\n",
    "```java\n",
    "try {\n",
    "    URL myURL = new URL(someURL);\n",
    "    //\n",
    "}\n",
    "catch (MalformedURLException mfe) {\n",
    "    //\n",
    "}\n",
    "```\n",
    "\n",
    "- Declaring exceptions\n",
    "    - You can choose to handle exceptions yourself in your code (i.e. via the try...catch...finally)\n",
    "    - Or you can propagate any exceptions onwards to the caller via `throws` in the method declaration `public String returnSomeString() throws Exception {}`\n",
    "\n",
    "- If need be, you can just write a custom exception by extending Throwable\n",
    "\n",
    "- java.io java.nio to access files directly"
   ]
  }
 ],
 "metadata": {
  "language_info": {
   "name": "python"
  },
  "orig_nbformat": 4
 },
 "nbformat": 4,
 "nbformat_minor": 2
}
