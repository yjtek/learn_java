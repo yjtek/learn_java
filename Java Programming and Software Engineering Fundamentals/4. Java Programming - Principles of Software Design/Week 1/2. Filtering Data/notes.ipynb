{
 "cells": [
  {
   "cell_type": "markdown",
   "metadata": {
    "vscode": {
     "languageId": "plaintext"
    }
   },
   "source": [
    "- You would have found in section 1 that filtering the ArrayList involves a whole bunch of boilerplate code, but it doesn't necessarily do very much\n",
    "    - Solution: Write a generic method for reuse! \n",
    "\n",
    "- Instead of rewriting the loop over `ArrayList<QuakeEntry>` for every filtering condition, you implement a generic method that is parameterized by `Filter`\n",
    "    - That is, you define an **interface**\n",
    "    - An `interface` promises specific methods will be implemented\n",
    "    - A class will implement these methods\n",
    "\n",
    "```java\n",
    "public interface Filter {\n",
    "    public boolean satisfies(QuakeEntry qe); //You promise that this method will exist in all classes that implement this interface\n",
    "}\n",
    "```\n",
    "\n",
    "- How can we put this into practise?\n",
    "\n",
    "```java\n",
    "public class MinMagFilter implements Filter { //java will check to make sure that all interfaces are implemented\n",
    "    private double magMin;\n",
    "    public MinMagFilter(double min){\n",
    "        magMin = min;\n",
    "    }\n",
    "    public boolean satisfies(QuakeEntry qe){\n",
    "        return qe.getMagnitude() >= magMin;\n",
    "    }\n",
    "}\n",
    "\n",
    "public ArrayList<QuakeEntry> filter(ArrayList<QuakeEntry> quakeData, Filter f) {\n",
    "    ArrayList<QuakeEntry> answer = new ArrayList<QuakeEntry>();\n",
    "    for (QuakeEntry qe: quakeData){\n",
    "        if (f.satisfies(qe)){\n",
    "            answer.add(qe);\n",
    "        }\n",
    "    }\n",
    "    return answer;\n",
    "}\n",
    "\n",
    "Filter f = MinMagFilter(4.0);\n",
    "ArrayList<QuakeEntry> largeQuakes = filter(list, f);\n",
    "\n",
    "// Another filter\n",
    "f = new DistanceFilter(myLoc, 100);\n",
    "ArrayList<QuakeEntry> shallowQuakes = filter(list, f);\n",
    "```"
   ]
  },
  {
   "cell_type": "markdown",
   "metadata": {},
   "source": [
    "- You can see that there are multiple `satisfies` in the code above. \n",
    "    - Java will call the `satisfies` according to the object that has been passed into the method call\n",
    "    - This is known as dynamic dispatch"
   ]
  },
  {
   "cell_type": "markdown",
   "metadata": {},
   "source": [
    "- How does this design make things better?\n",
    "    - Suppose you have multiple filter conditions (min magnitude must be 5.0, max distance must be 200)\n",
    "    - Each filter condition can take on a whole range of values\n",
    "    - You don't want to have to modify your filtering logic everytime, which would certainly be necessary if you had multiple filters of varying conditions\n",
    "    - This object oriented design lets you re-use the filtering logic and **compose** them into more complex ones\n",
    "\n",
    "```java\n",
    "public class MatchAllFilter implements Filter {\n",
    "    private ArrayList<Filter> filters;\n",
    "    \n",
    "    public MatchAllFilter() {\n",
    "        filters = new ArrayList<Filter>();\n",
    "    }\n",
    "    \n",
    "    public void addFilter(Filter f){\n",
    "        filters.add(f);\n",
    "    }\n",
    "\n",
    "    public boolean satisfies (QuakeEntry qe) {\n",
    "        for (Filter f: filters) {\n",
    "            if (!f.satisfies(qe)) {\n",
    "                return False\n",
    "            }\n",
    "        }\n",
    "        return True\n",
    "    }\n",
    "\n",
    "}\n",
    "\n",
    "```"
   ]
  }
 ],
 "metadata": {
  "language_info": {
   "name": "python"
  },
  "orig_nbformat": 4
 },
 "nbformat": 4,
 "nbformat_minor": 2
}
