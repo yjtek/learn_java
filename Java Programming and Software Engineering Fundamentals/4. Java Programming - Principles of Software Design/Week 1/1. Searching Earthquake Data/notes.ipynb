{
 "cells": [
  {
   "cell_type": "markdown",
   "metadata": {},
   "source": [
    "- Let's use the earthquake analysis to talk through how to do Object Oriented Programming in Java\n",
    "\n",
    "- `QuakeEntry` is POJO (plain old java object)\n",
    "    - Represents 1 earthquake\n",
    "    - Doesn't make sense to talk about earthquakes without talking about its location, magnitude etc. So instantiate an attribute for all of these\n",
    "        - i.e. you cannot instantiate without these parameters provided\n",
    "    - These attributes should be immutable. You don't want end users accidentally modifying the quake's information\n",
    "        - Provide `getters()` to access information\n",
    "    - Use `toString()` to print information\n"
   ]
  },
  {
   "cell_type": "code",
   "execution_count": null,
   "metadata": {
    "vscode": {
     "languageId": "plaintext"
    }
   },
   "outputs": [],
   "source": []
  }
 ],
 "metadata": {
  "language_info": {
   "name": "python"
  },
  "orig_nbformat": 4
 },
 "nbformat": 4,
 "nbformat_minor": 2
}
