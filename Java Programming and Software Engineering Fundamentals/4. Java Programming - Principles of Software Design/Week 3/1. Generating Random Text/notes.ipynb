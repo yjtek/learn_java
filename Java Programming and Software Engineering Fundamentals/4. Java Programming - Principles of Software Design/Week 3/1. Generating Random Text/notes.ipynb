{
 "cells": [
  {
   "cell_type": "markdown",
   "metadata": {},
   "source": [
    "- We will learn how to generate random texts in this segment\n",
    "    - Order zero text: Generate text based on population level distribution of characters. Usually gibberish.\n",
    "    - Order one text: Use one letter to predict the next. Produce pronounceable words, but often no semantic content\n",
    "    - Order two text: Use 2 letters to predict the next.\n",
    "    - Order N text: ???\n",
    "\n",
    "- Order zero markov text generation\n",
    "    - Use training text to generate text randomly\n",
    "    - Choose characters at random; i.e. global character distribution preserved, but sampling not based on conditional probability\n",
    "\n",
    "- To write a random text generating program, let's think about the components needed:\n",
    "    - We need the training text\n",
    "        - We might want to generate a few random texts from the same training data\n",
    "        - Store text in instance variable to set in one method and access in another\n",
    "    - We need to generate the random text\n",
    "        - Use java.util.Random\n",
    "        - Use StringBuilder to build text\n",
    "    - Constructors and methods  \n",
    "        - RNG may need seed for repeatability\n",
    "    - Can test MarkovZero with a runner called MarkovRunner\n",
    "        - User selects training text file, and replaces \\n with ''\n",
    "        - Repeatedly generates random text\n",
    "    \n",
    "- How does MarkovOne differ from MarkovZero \n",
    "    - Everything is almost the same, except for the step where we pick the next character. MarkovZero will use getRandomCharacter, but MarkovOne will `predict` the next character\n",
    "    - How will the prediction be done? Compute the conditional probability of character distributions following every character\n",
    "        - Hashmap of hashmaps? "
   ]
  },
  {
   "cell_type": "markdown",
   "metadata": {},
   "source": [
    "- How do we build conditional probabilities?\n",
    "    - For a given string, for a given chacter `x`\n",
    "    - Find every instance that the character appears\n",
    "    - find the character `y` following it\n",
    "    - take the % of occurrences of `y` following `x`\n",
    "    - This is your hashmap for `x`"
   ]
  },
  {
   "cell_type": "markdown",
   "metadata": {},
   "source": [
    "- Implementing order two\n",
    "    - See references"
   ]
  },
  {
   "cell_type": "markdown",
   "metadata": {},
   "source": [
    "- Testing and debugging\n",
    "    - In this lesson, still using `System.out.println` to debug"
   ]
  },
  {
   "cell_type": "markdown",
   "metadata": {},
   "source": [
    "- Interfaces and Abstract classes\n",
    "    - Notice how in exercise 1, we created MarkovZero, MarkovOne, MarkovFour etc\n",
    "    - This is very troublesome. For every value you want to feed into markov, you have to write a new object\n",
    "    - But notice that, once you copy the code, everything works as expected. This is brcause MarkovZero/One etc share the same method and attribute names\n",
    "\n",
    "- We can write common method signatures using `Interface`\n",
    "    - By convention, interface names start with `I` (e.g. IMarkovModel)\n",
    "    - So in exercise one, MarkovOne simply implements the IMarkovModel interface!\n",
    "\n",
    "- For methods that use specific instances of MarkovOne/MarkovTwo etc, we instead change the type reference to the interface\n",
    "    - e.g. `public void runModel(IMarkovModel markov, String text, int size) ...`\n",
    "\n",
    "- Design principle: Open-closed\n",
    "    - Open for extension, closed to modification\n",
    "    - In this case, coding to the interface allows you to modify the implementation of the exact MarkovModel used, without changing downstream code (e.g. `runModel`)\n",
    "\n",
    "- Also notice that each class MarkovOne, MarkovFour etc have their own random number generator and text `myRandom`, `myText`\n",
    "    - Also, there is a duplicated helper method `getFollows(key)` for every Markov model object, although the implementation is the same for every class\n",
    "\n",
    "- We can capture commonality in Abstract Base Class (ABC)\n",
    "    - Relies on object oriented concept: Inheritance\n",
    "    - Using an ABC, we can share common attributes (myText, myRandom) for different objects\n",
    "    - These attributes are `protected`, not private. That is, they can be accessed outside of the ABC, so long as the subclass trying to access it is derived from the same ABC\n",
    "    - When marking a class as `Abstract`, it must accept an abstract function\n",
    "        - This means that the function signature will be defined in the Abstract class, but the actual implementation will be left to the individual instances of the ABC\n",
    "    - We can also have `protected` methods that are common to all subclasses\n",
    "        - In this case, the `getFollows(key)` method will be common!\n",
    "        - In the example below, `MarkovModel` extends the ABC, and so gets access to all protected attributes and methods\n",
    "        - Extensions of the ABC can also have their own instance variables\n",
    "        - Extensions of the ABC MUST implement any abstract methods defined (i.e. getRandomText()) \n",
    "\n",
    "```java\n",
    "public abstract class AbstractMarkovModel implements IMarkovModel {\n",
    "    protected String myText;\n",
    "    protected Random myRandom;\n",
    "\n",
    "    public AbstractMarkovModel() {\n",
    "        myRandom = new Random();\n",
    "    }\n",
    "\n",
    "    abstract public String getRandomText(int numChars);\n",
    "\n",
    "    protected ArrayList<String> getFollows(String key){\n",
    "        ...\n",
    "    }\n",
    "}\n",
    "\n",
    "public class MarkovModel extends AbstractMarkovModel {\n",
    "    private int myOrder;\n",
    "\n",
    "    public MarkovModel(int order) {\n",
    "        myOrder = order;\n",
    "    }\n",
    "}\n",
    "```\n"
   ]
  }
 ],
 "metadata": {
  "language_info": {
   "name": "python"
  },
  "orig_nbformat": 4
 },
 "nbformat": 4,
 "nbformat_minor": 2
}
