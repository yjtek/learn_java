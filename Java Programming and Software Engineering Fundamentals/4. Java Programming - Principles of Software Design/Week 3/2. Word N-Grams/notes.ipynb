{
 "cells": [
  {
   "cell_type": "markdown",
   "metadata": {},
   "source": [
    "- Instead of using letters to generate text, we can also generate them by words\n",
    "\n",
    "- Same idea of \"order-one\" generation, but we sample across distribution of words instead of characters\n",
    "    - Notice that we can simply reuse the interface IMarkovModel we wrote earlier, because the signature of the MarkovModel (e.g. getRandom) doesn't actually change\n",
    "    - that is, we only change the **implementation**, not the **interface**. Abstraction!\n",
    "    - String myText --> String[] myText\n",
    "        - Search for words instead of characters\n",
    "\n",
    "- Building a string by adding words instead of characters has some nuances\n",
    "    - You sample of array of words instead of chars\n",
    "    - You must explicitly add a space between words\n",
    "\n",
    "- To help us with this, we need some helper functions too\n",
    "\n",
    "```java\n",
    "public class MarkovWordOne implements IMarkovModel {\n",
    "    private ArrayList<String> getFollows(String key) {\n",
    "        ArrayList<String> follows = new ArrayList<String>();\n",
    "        int pos = 0;\n",
    "        while (pos < myText.length) {\n",
    "            int start = indexOf(myText, key, pos);\n",
    "        }\n",
    "    }\n",
    "}\n",
    "```\n"
   ]
  },
  {
   "cell_type": "markdown",
   "metadata": {},
   "source": [
    "<FINISH EXERCISE 1 HERE FIRST>"
   ]
  },
  {
   "cell_type": "markdown",
   "metadata": {},
   "source": [
    "- Notice that unlike the Markov character model, the transition of Markov Word Model from 1 to 2 words is not simple\n",
    "    - The main complication is moving from sampling 1 word to sampling 2 words (i.e. the getFollows method)\n",
    "    - How can we generalise this from 1 --> 2 --> N words?\n",
    "    - This is where we design a new class: `WordGram`!\n",
    "\n",
    "- Designing the class: Think of what functionality you need\n",
    "    - State: Array of Strings\n",
    "    - need a way to getLength and wordAt (analog of charAt)\n",
    "    - toString(), equals(), \n",
    "    - Do we need a comparable `.compareTo()`?\n",
    "\n",
    "```java\n",
    "public class WordGram{\n",
    "    private String[] myWords;\n",
    "\n",
    "    public WordGram(String[] source, int start, int size) {\n",
    "        myWords = new String[size];\n",
    "        System.arraycopy(source, start, myWords, 0, size);\n",
    "    }\n",
    "\n",
    "    public String wordAt(int index) {\n",
    "        if (index < 0 || index >= myWords.length) {\n",
    "            throw new IndexOutOfBoundsException(\"Bad index \" + index);\n",
    "        }\n",
    "        return myWords[index];\n",
    "    }\n",
    "\n",
    "    public int length() {\n",
    "        return myWords.length;\n",
    "    }\n",
    "}\n",
    "\n",
    "```"
   ]
  }
 ],
 "metadata": {
  "language_info": {
   "name": "python"
  },
  "orig_nbformat": 4
 },
 "nbformat": 4,
 "nbformat_minor": 2
}
